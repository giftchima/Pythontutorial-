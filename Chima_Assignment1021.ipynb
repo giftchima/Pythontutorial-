{
 "cells": [
  {
   "cell_type": "markdown",
   "metadata": {},
   "source": [
    "# Working with Files :Coffee Project  \n",
    "\n",
    "'''\n",
    "A coffee owner needs to manage her inventory of various varieties of coffee and the quantity she has in her company.\n",
    "A file is need to keep that inventory. \n",
    "   \n",
    "Each record should have two fields\n",
    "Description – A string containing the name of the coffee\n",
    "Quantity – The number of pounds as a floating point variable.\n",
    "\n",
    "Write a program to:\n",
    "Add records - at least 5 records\n",
    "Display records \n",
    "Search for a specific record\n",
    "Modify records - 2 records\n",
    "Delete records - 1 record and display the remaining\n",
    "'''\n"
   ]
  },
  {
   "cell_type": "markdown",
   "metadata": {},
   "source": [
    "## Adding records"
   ]
  },
  {
   "cell_type": "code",
   "execution_count": 4,
   "metadata": {},
   "outputs": [
    {
     "name": "stdout",
     "output_type": "stream",
     "text": [
      "How many variety of coffee do you have?: 5\n",
      "Enter Description for coffee 1: dark blend\n",
      "Enter Quantity for coffee 1: 1\n",
      "\n",
      "Enter Description for coffee 2: light blend\n",
      "Enter Quantity for coffee 2: 5\n",
      "\n",
      "Enter Description for coffee 3: medium blend\n",
      "Enter Quantity for coffee 3: 50\n",
      "\n",
      "Enter Description for coffee 4: dark roast\n",
      "Enter Quantity for coffee 4: 60\n",
      "\n",
      "Enter Description for coffee 5: medium roast\n",
      "Enter Quantity for coffee 5: 20\n",
      "\n",
      "Your records have been written to inventory.txt.\n"
     ]
    }
   ],
   "source": [
    "#Add records - at least 5 records\n",
    "\n",
    "def add_records():\n",
    "    num_coffee = int(input('How many variety of coffee do you have?: '))\n",
    "\n",
    "    records_file = open('inventory.txt', 'w')\n",
    "  \n",
    "    for number, count in enumerate(range(num_coffee), 1):\n",
    "        item_desc = input('Enter Description for coffee %d: ' %number)\n",
    "        item_quantity = int(input('Enter Quantity for coffee %d: ' %number))\n",
    "\n",
    "        records_file.write(item_desc + '\\n')\n",
    "        records_file.write(str(item_quantity) + '\\n')\n",
    "        \n",
    "        print()\n",
    "\n",
    "    records_file.close()\n",
    "    print('Your records have been written to inventory.txt.')\n",
    "    \n",
    "add_records()"
   ]
  },
  {
   "cell_type": "markdown",
   "metadata": {},
   "source": [
    "## Displaying Records"
   ]
  },
  {
   "cell_type": "code",
   "execution_count": 5,
   "metadata": {},
   "outputs": [
    {
     "name": "stdout",
     "output_type": "stream",
     "text": [
      "Coffee Description 1 : dark blend\n",
      "Coffee Quantiity: 1\n",
      "\n",
      "Coffee Description 2 : light blend\n",
      "Coffee Quantiity: 5\n",
      "\n",
      "Coffee Description 3 : medium blend\n",
      "Coffee Quantiity: 50\n",
      "\n",
      "Coffee Description 4 : dark roast\n",
      "Coffee Quantiity: 60\n",
      "\n",
      "Coffee Description 5 : medium roast\n",
      "Coffee Quantiity: 20\n",
      "\n"
     ]
    }
   ],
   "source": [
    "#Display records \n",
    "\n",
    "def display_records():\n",
    "    record_file = open('inventory.txt', 'r')\n",
    "\n",
    "    item_desc = record_file.readline()\n",
    "    count  = 1\n",
    "\n",
    "    while item_desc != '':\n",
    "        item_desc = item_desc.rstrip('\\n')\n",
    "        item_quantity = record_file.readline()\n",
    "        item_quantity = item_quantity.rstrip('\\n') \n",
    "        print('Coffee Description %d : %s' % (count,item_desc))\n",
    "        print('Coffee Quantiity:', item_quantity)\n",
    "        print()\n",
    "        count = count + 1\n",
    "        item_desc = record_file.readline()\n",
    "      \n",
    "\n",
    "    record_file.close()\n",
    "\n",
    "display_records()"
   ]
  },
  {
   "cell_type": "markdown",
   "metadata": {},
   "source": [
    "## Search for a specific record"
   ]
  },
  {
   "cell_type": "code",
   "execution_count": 6,
   "metadata": {},
   "outputs": [
    {
     "name": "stdout",
     "output_type": "stream",
     "text": [
      "Enter the coffee you are interested in: dark roast\n",
      "Description: dark roast\n",
      "Quantity: 60\n"
     ]
    }
   ],
   "source": [
    "#Search for a specific record\n",
    "\n",
    "def search_record():\n",
    "    record_file = open('inventory.txt', 'r')\n",
    "    coffee_search = input('Enter the coffee you are interested in: ')\n",
    "    description = record_file.readlines()\n",
    "    for line in range(len(description)):\n",
    "        if coffee_search in description[line]:\n",
    "            print('Description:',description[line].rstrip('\\n'))\n",
    "            print('Quantity:',description[line+1].rstrip('\\n') )\n",
    "            break\n",
    "        else:\n",
    "            continue\n",
    "        \n",
    "            \n",
    "    record_file.close()\n",
    "    \n",
    "search_record()"
   ]
  },
  {
   "cell_type": "markdown",
   "metadata": {},
   "source": [
    "## Modify  records"
   ]
  },
  {
   "cell_type": "code",
   "execution_count": 7,
   "metadata": {},
   "outputs": [
    {
     "name": "stdout",
     "output_type": "stream",
     "text": [
      "How many records do you want to change?: 2\n",
      "Enter the description of the coffee: dark roast\n",
      "Enter y to change coffee description orEnter n to change coffee quantity: n\n",
      "Enter the coffee quantity you desire: 100\n",
      "Description: dark roast\n",
      "Quantity: 100\n",
      "Enter the description of the coffee: light blend\n",
      "Enter y to change coffee description orEnter n to change coffee quantity: y\n",
      "Enter the coffee description you desire: vanilla blend\n",
      "\n",
      "Description: vanilla blend\n",
      "Quantity: 5\n"
     ]
    }
   ],
   "source": [
    "# Modify 2 records\n",
    "\n",
    "def modify_record():\n",
    "    with open('inventory.txt', 'r') as record_file:\n",
    "        quantity_record = record_file.readlines()\n",
    "        record_change = int(input('How many records do you want to change?: '))\n",
    "        \n",
    "        count = 0\n",
    "        while count < record_change:\n",
    "            description_change = input('Enter the description of the coffee: ').lower()\n",
    "            answer = input('Enter y to change coffee description or' + \\\n",
    "                           ' Enter n to change coffee quantity: ').lower()\n",
    "            if answer == 'y':\n",
    "                description_desired = input('Enter the coffee description you desire: ').lower()\n",
    "                print()\n",
    "                for line in range(len(quantity_record)):\n",
    "                    if description_change in quantity_record[line]:\n",
    "                        quantity_record[line] = str(description_desired + '\\n')\n",
    "                        print('Description:',quantity_record[line].rstrip('\\n') )\n",
    "                        print('Quantity:',quantity_record[line+1].rstrip('\\n') )\n",
    "                        count = count + 1\n",
    "                        break\n",
    "                    else:\n",
    "                        continue\n",
    "            if answer == 'n':\n",
    "                quantity_desired = input('Enter the coffee quantity you desire: ')\n",
    "                for line in range(len(quantity_record)):\n",
    "                    if description_change in quantity_record[line]:\n",
    "                        quantity_record[line+1] = str(quantity_desired + '\\n')\n",
    "                        print('Description:',quantity_record[line].rstrip('\\n') )\n",
    "                        print('Quantity:',quantity_record[line+1].rstrip('\\n') )\n",
    "                        count = count + 1\n",
    "                        break\n",
    "                    else:\n",
    "                        continue\n",
    "                       \n",
    "    with open('inventory.txt','w') as record_file:\n",
    "        record_file.writelines(quantity_record)\n",
    "        \n",
    "        \n",
    "    \n",
    "modify_record()"
   ]
  },
  {
   "cell_type": "markdown",
   "metadata": {},
   "source": [
    "## verifying modified records"
   ]
  },
  {
   "cell_type": "code",
   "execution_count": 8,
   "metadata": {},
   "outputs": [
    {
     "name": "stdout",
     "output_type": "stream",
     "text": [
      "Coffee Description 1 : dark blend\n",
      "Coffee Quantiity: 1\n",
      "\n",
      "Coffee Description 2 : vanilla blend\n",
      "Coffee Quantiity: 5\n",
      "\n",
      "Coffee Description 3 : medium blend\n",
      "Coffee Quantiity: 50\n",
      "\n",
      "Coffee Description 4 : dark roast\n",
      "Coffee Quantiity: 100\n",
      "\n",
      "Coffee Description 5 : medium roast\n",
      "Coffee Quantiity: 20\n",
      "\n"
     ]
    }
   ],
   "source": [
    "# Checking the modified records\n",
    "\n",
    "def display_records():\n",
    "    record_file = open('inventory.txt', 'r')\n",
    "\n",
    "    item_desc = record_file.readline()\n",
    "    count  = 1\n",
    "\n",
    "    while item_desc != '':\n",
    "        item_desc = item_desc.rstrip('\\n')\n",
    "        item_quantity = record_file.readline()\n",
    "        item_quantity = item_quantity.rstrip('\\n') \n",
    "        print('Coffee Description %d : %s' % (count,item_desc))\n",
    "        print('Coffee Quantiity:', item_quantity)\n",
    "        print()\n",
    "        count = count + 1\n",
    "        item_desc = record_file.readline()\n",
    "      \n",
    "\n",
    "    record_file.close()\n",
    "\n",
    "display_records()"
   ]
  },
  {
   "cell_type": "markdown",
   "metadata": {},
   "source": [
    "## deleting records"
   ]
  },
  {
   "cell_type": "code",
   "execution_count": 9,
   "metadata": {},
   "outputs": [
    {
     "name": "stdout",
     "output_type": "stream",
     "text": [
      "How many records do you want to change?: 1\n",
      "Enter the coffee description you want to delete: vanilla blend\n"
     ]
    }
   ],
   "source": [
    "#delete records \n",
    "def delete_record():\n",
    "    with open('inventory.txt', 'r') as record_file:\n",
    "        quantity_record = record_file.readlines()\n",
    "        record_change = int(input('How many records do you want to change?: '))\n",
    "        \n",
    "        count = 0\n",
    "        while count < record_change:\n",
    "            description_change = input('Enter the coffee description you want to delete: ')\n",
    "            for line in range(len(quantity_record)):\n",
    "                if description_change in quantity_record[line]:\n",
    "                    quantity_record.remove(quantity_record[line])\n",
    "                    quantity_record.remove(quantity_record[line])\n",
    "                    count = count + 1\n",
    "                    print('Your records have been deleted from inventory.txt.')\n",
    "                    break\n",
    "                else:\n",
    "                    continue\n",
    "                       \n",
    "    with open('inventory.txt', 'w') as record_file:\n",
    "        record_file.writelines(quantity_record)\n",
    "        record_file.close()\n",
    "\n",
    "    \n",
    "delete_record()"
   ]
  },
  {
   "cell_type": "markdown",
   "metadata": {},
   "source": [
    "## Checking final text file"
   ]
  },
  {
   "cell_type": "code",
   "execution_count": 10,
   "metadata": {},
   "outputs": [
    {
     "name": "stdout",
     "output_type": "stream",
     "text": [
      "Description: dark blend\n",
      "Quantiity: 1\n",
      "\n",
      "Description: medium blend\n",
      "Quantiity: 50\n",
      "\n",
      "Description: dark roast\n",
      "Quantiity: 100\n",
      "\n",
      "Description: medium roast\n",
      "Quantiity: 20\n",
      "\n"
     ]
    }
   ],
   "source": [
    "def checking_records():\n",
    "    inv_file = open('inventory.txt', 'r')\n",
    "    description = inv_file.readline()\n",
    "    while description != '':\n",
    "        quantity = inv_file.readline()\n",
    "        description = description.rstrip('\\n')\n",
    "        quantity = quantity.rstrip('\\n') \n",
    "        print('Description:', description)\n",
    "        print('Quantiity:', quantity)\n",
    "        print()\n",
    "        description = inv_file.readline()\n",
    "\n",
    "    inv_file.close()\n",
    "    \n",
    "checking_records()"
   ]
  },
  {
   "cell_type": "code",
   "execution_count": null,
   "metadata": {},
   "outputs": [],
   "source": []
  }
 ],
 "metadata": {
  "kernelspec": {
   "display_name": "Python 3",
   "language": "python",
   "name": "python3"
  },
  "language_info": {
   "codemirror_mode": {
    "name": "ipython",
    "version": 3
   },
   "file_extension": ".py",
   "mimetype": "text/x-python",
   "name": "python",
   "nbconvert_exporter": "python",
   "pygments_lexer": "ipython3",
   "version": "3.6.4"
  }
 },
 "nbformat": 4,
 "nbformat_minor": 2
}
